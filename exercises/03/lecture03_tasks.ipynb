{
 "cells": [
  {
   "cell_type": "markdown",
   "id": "2fa00b06-6e3c-4f6e-8bbd-c0f4b7d2eadc",
   "metadata": {
    "tags": []
   },
   "source": [
    "# 1. Setting up the development environment\n",
    "\n",
    "After following instructions on the worksheet, execute the following python cell and store the output in a file '''IntroABM_E03-T1_<Lastname<>Firstname>_<YYYY-MM-DD>.txt''' "
   ]
  },
  {
   "cell_type": "code",
   "execution_count": null,
   "id": "34cf95e3-b6f7-4bc5-8b7a-e3a7bc4551b4",
   "metadata": {},
   "outputs": [],
   "source": [
    "import spyder\n",
    "\n",
    "# chcek python version\n",
    "# check spyder\n",
    "# check git"
   ]
  },
  {
   "cell_type": "markdown",
   "id": "c0fd36ca-9e7a-44f2-af72-13fd6dcb2871",
   "metadata": {
    "tags": []
   },
   "source": [
    "# 3. Extending the Evacuation Model: Introducing Facilitators #\n",
    "\n",
    "ABM allow the exploration of different agent types. We can define various agent types with specific objectives, actions, and properteis. One way to extend the evacuation model is the introduction of facilitator agents. These are more experienced and better know about the exits, and also never panic. We will add facilitator agents and analyse their impact on evacuation time."
   ]
  },
  {
   "cell_type": "markdown",
   "id": "7048b6e2-c758-4b67-ad35-29e18ebec072",
   "metadata": {
    "tags": []
   },
   "source": [
    "## 3.1 Implementation\n",
    "1. Add the facilitator agent class to agent.py\n",
    "2. "
   ]
  },
  {
   "cell_type": "markdown",
   "id": "8ce61f55-dee4-4616-9909-59219878afd0",
   "metadata": {},
   "source": [
    "# 4. Analysing the Evacuation Model: Spatial Resolution"
   ]
  },
  {
   "cell_type": "code",
   "execution_count": null,
   "id": "3fde2a86-8427-4824-9758-16d752121eb3",
   "metadata": {},
   "outputs": [],
   "source": []
  }
 ],
 "metadata": {
  "kernelspec": {
   "display_name": "Python 3 (ipykernel)",
   "language": "python",
   "name": "python3"
  },
  "language_info": {
   "codemirror_mode": {
    "name": "ipython",
    "version": 3
   },
   "file_extension": ".py",
   "mimetype": "text/x-python",
   "name": "python",
   "nbconvert_exporter": "python",
   "pygments_lexer": "ipython3",
   "version": "3.9.7"
  }
 },
 "nbformat": 4,
 "nbformat_minor": 5
}
