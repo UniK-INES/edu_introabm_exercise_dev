{
 "cells": [
  {
   "cell_type": "markdown",
   "id": "c0fd36ca-9e7a-44f2-af72-13fd6dcb2871",
   "metadata": {
    "tags": []
   },
   "source": [
    "# Task 3: Extending the Evacuation Model: Introducing Facilitators #\n",
    "\n",
    "ABM allows the exploration of different kinds of entities / agent classes. We can define various agent classes with specific objectives, actions, and properties. One way to extend the evacuation model is the introduction of facilitator agents. These are more experienced and know better about the exits, and also never panic. We will add facilitator agents and analyse their impact on evacuation time."
   ]
  },
  {
   "cell_type": "markdown",
   "id": "7048b6e2-c758-4b67-ad35-29e18ebec072",
   "metadata": {
    "tags": []
   },
   "source": [
    "## 3.1 Implementation\n",
    "1. Add the facilitator agent class to agent.py\n",
    "2. "
   ]
  },
  {
   "cell_type": "markdown",
   "id": "8ce61f55-dee4-4616-9909-59219878afd0",
   "metadata": {},
   "source": [
    "## 3.2 Documentation"
   ]
  },
  {
   "cell_type": "code",
   "execution_count": null,
   "id": "3fde2a86-8427-4824-9758-16d752121eb3",
   "metadata": {},
   "outputs": [],
   "source": []
  }
 ],
 "metadata": {
  "kernelspec": {
   "display_name": "Python 3 (ipykernel)",
   "language": "python",
   "name": "python3"
  },
  "language_info": {
   "codemirror_mode": {
    "name": "ipython",
    "version": 3
   },
   "file_extension": ".py",
   "mimetype": "text/x-python",
   "name": "python",
   "nbconvert_exporter": "python",
   "pygments_lexer": "ipython3",
   "version": "3.9.7"
  }
 },
 "nbformat": 4,
 "nbformat_minor": 5
}
