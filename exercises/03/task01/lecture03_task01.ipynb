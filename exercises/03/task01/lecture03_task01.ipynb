{
 "cells": [
  {
   "cell_type": "markdown",
   "id": "2fa00b06-6e3c-4f6e-8bbd-c0f4b7d2eadc",
   "metadata": {
    "tags": []
   },
   "source": [
    "# Task 1: Setting up the development environment\n",
    "\n",
    "After following instructions on the worksheet, execute the following python cell, copy (rightclick on output \\> \"Copy Output to Clipboard\") and paste the output to a file ```IntroABM_E03-T1_<Lastname><Firstname>_<YYYY-MM-DD>.txt```"
   ]
  },
  {
   "cell_type": "code",
   "execution_count": null,
   "id": "34cf95e3-b6f7-4bc5-8b7a-e3a7bc4551b4",
   "metadata": {},
   "outputs": [],
   "source": [
    "import spyder\n",
    "import os, sys\n",
    "\n",
    "# check python version\n",
    "print(\"Python version: \", sys.version)\n",
    "\n",
    "# check spyder\n",
    "print(\"Spider version: \", spyder.__version__)\n",
    "\n",
    "# check git\n",
    "os.system('git --version')"
   ]
  }
 ],
 "metadata": {
  "kernelspec": {
   "display_name": "Python 3 (ipykernel)",
   "language": "python",
   "name": "python3"
  },
  "language_info": {
   "codemirror_mode": {
    "name": "ipython",
    "version": 3
   },
   "file_extension": ".py",
   "mimetype": "text/x-python",
   "name": "python",
   "nbconvert_exporter": "python",
   "pygments_lexer": "ipython3",
   "version": "3.9.7"
  }
 },
 "nbformat": 4,
 "nbformat_minor": 5
}
